{
 "cells": [
  {
   "cell_type": "code",
   "execution_count": 2,
   "metadata": {},
   "outputs": [],
   "source": [
    "class Dog:\n",
    "    attr1 = \"mammul\"\n",
    "    attr2 = \"dog\"\n",
    "\n",
    "    def fun(self):\n",
    "        print(\"I'm a\", self.attr1)\n",
    "        print(\"I'm a\", self.attr2)\n",
    "    "
   ]
  },
  {
   "cell_type": "code",
   "execution_count": 4,
   "metadata": {},
   "outputs": [],
   "source": [
    "rodger = Dog()"
   ]
  },
  {
   "cell_type": "code",
   "execution_count": 6,
   "metadata": {},
   "outputs": [
    {
     "name": "stdout",
     "output_type": "stream",
     "text": [
      "I'm a mammul\n",
      "I'm a dog\n"
     ]
    }
   ],
   "source": [
    "rodger.fun()"
   ]
  },
  {
   "cell_type": "code",
   "execution_count": 7,
   "metadata": {},
   "outputs": [],
   "source": [
    "class GFG:\n",
    "    def __init__(self,name , company):\n",
    "        self.name = name\n",
    "        self.company = company\n",
    "    \n",
    "    def show(self):\n",
    "        print(\"Hello my name is \" + self.name+\" and I\" +\n",
    "              \" work in \"+self.company+\".\")\n",
    "    "
   ]
  },
  {
   "cell_type": "code",
   "execution_count": 8,
   "metadata": {},
   "outputs": [],
   "source": [
    "obj = GFG(\"sushil\" , \"Google\")"
   ]
  },
  {
   "cell_type": "code",
   "execution_count": 9,
   "metadata": {},
   "outputs": [
    {
     "name": "stdout",
     "output_type": "stream",
     "text": [
      "Hello my name is sushil and I work in Google.\n"
     ]
    }
   ],
   "source": [
    "obj.show()"
   ]
  },
  {
   "cell_type": "markdown",
   "metadata": {},
   "source": [
    "# String as a store method"
   ]
  },
  {
   "cell_type": "markdown",
   "metadata": {},
   "source": [
    " do not importatnt"
   ]
  },
  {
   "cell_type": "code",
   "execution_count": 10,
   "metadata": {},
   "outputs": [
    {
     "name": "stdout",
     "output_type": "stream",
     "text": [
      "My name is John and I work in GeeksForGeeks.\n"
     ]
    }
   ],
   "source": [
    "class GFG:\n",
    "    def __init__(self, name, company):\n",
    "        self.name = name\n",
    "        self.company = company\n",
    "\n",
    "    def __str__(self):\n",
    "        return f\"My name is {self.name} and I work in {self.company}.\"\n",
    "\n",
    "\n",
    "my_obj = GFG(\"John\", \"GeeksForGeeks\")\n",
    "print(my_obj)"
   ]
  },
  {
   "cell_type": "markdown",
   "metadata": {},
   "source": [
    "class varibale shared with all object    \n",
    "\n",
    "instance variable only  shared with the instance(object) of the class"
   ]
  },
  {
   "cell_type": "code",
   "execution_count": 11,
   "metadata": {},
   "outputs": [],
   "source": [
    "class Dog:\n",
    "\n",
    "    # Class Variable\n",
    "    animal = 'dog'\n",
    "\n",
    "    # The init method or constructor\n",
    "    def __init__(self, breed, color):\n",
    "\n",
    "        # Instance Variable\n",
    "        self.breed = breed\n",
    "        self.color = color\n",
    "\n",
    "\n",
    "# Objects of Dog class\n",
    "Rodger = Dog(\"Pug\", \"brown\")\n",
    "Buzo = Dog(\"Bulldog\", \"black\")"
   ]
  },
  {
   "cell_type": "code",
   "execution_count": 12,
   "metadata": {},
   "outputs": [
    {
     "name": "stdout",
     "output_type": "stream",
     "text": [
      "Rodger details:\n",
      "Rodger is a dog\n",
      "Breed:  Pug\n",
      "Color:  brown\n",
      "\n",
      "Buzo details:\n",
      "Buzo is a dog\n",
      "Breed:  Bulldog\n",
      "Color:  black\n",
      "\n",
      "Accessing class variable using class name\n",
      "dog\n"
     ]
    }
   ],
   "source": [
    "print('Rodger details:')\n",
    "print('Rodger is a', Rodger.animal)\n",
    "print('Breed: ', Rodger.breed)\n",
    "print('Color: ', Rodger.color)\n",
    "\n",
    "print('\\nBuzo details:')\n",
    "print('Buzo is a', Buzo.animal)\n",
    "print('Breed: ', Buzo.breed)\n",
    "print('Color: ', Buzo.color)\n",
    "\n",
    "# Class variables can be accessed using class\n",
    "# name also\n",
    "print(\"\\nAccessing class variable using class name\")\n",
    "print(Dog.animal)"
   ]
  },
  {
   "cell_type": "markdown",
   "metadata": {},
   "source": [
    "# getter and setter"
   ]
  },
  {
   "cell_type": "code",
   "execution_count": 14,
   "metadata": {},
   "outputs": [],
   "source": [
    "class Dog:\n",
    "    animal = \"dog\"\n",
    "    def __init__(self,breed):\n",
    "        self.breed = breed\n",
    "\n",
    "    #how to add variable or attribute\n",
    "    def setcolor(self,color):\n",
    "        self.color = color\n",
    "    # Retrieves instance variable\n",
    "    def getcolor(self):\n",
    "        return self.color\n",
    "    \n",
    "\n",
    "    "
   ]
  },
  {
   "cell_type": "code",
   "execution_count": 15,
   "metadata": {},
   "outputs": [],
   "source": [
    "Rodger = Dog(\"pug\")\n",
    "Rodger.setcolor(\"yellow\")"
   ]
  },
  {
   "cell_type": "code",
   "execution_count": 16,
   "metadata": {},
   "outputs": [
    {
     "data": {
      "text/plain": [
       "'yellow'"
      ]
     },
     "execution_count": 16,
     "metadata": {},
     "output_type": "execute_result"
    }
   ],
   "source": [
    "Rodger.getcolor()"
   ]
  },
  {
   "cell_type": "markdown",
   "metadata": {},
   "source": [
    "# Default constructor and parametrize constructor"
   ]
  },
  {
   "cell_type": "code",
   "execution_count": 7,
   "metadata": {},
   "outputs": [],
   "source": [
    "class Myclass:\n",
    "    def __init__(self,name = None):\n",
    "        if name is None:\n",
    "            print(\"Default constructor called\")\n",
    "        else:\n",
    "            self.name = name\n",
    "            print(\"Parameterized constructor called with name\", self.name)\n",
    "    def method(self):\n",
    "        if hasattr(self,'name'):\n",
    "            print(\"Method called with name\", self.name)\n",
    "        else:\n",
    "            print(\"Method called without a name\")\n",
    "        \n",
    "      "
   ]
  },
  {
   "cell_type": "code",
   "execution_count": 8,
   "metadata": {},
   "outputs": [
    {
     "name": "stdout",
     "output_type": "stream",
     "text": [
      "Default constructor called\n"
     ]
    }
   ],
   "source": [
    "obj1 = Myclass()"
   ]
  },
  {
   "cell_type": "code",
   "execution_count": 9,
   "metadata": {},
   "outputs": [
    {
     "name": "stdout",
     "output_type": "stream",
     "text": [
      "Method called without a name\n"
     ]
    }
   ],
   "source": [
    "# Call a method of the class\n",
    "obj1.method()"
   ]
  },
  {
   "cell_type": "code",
   "execution_count": 10,
   "metadata": {},
   "outputs": [
    {
     "name": "stdout",
     "output_type": "stream",
     "text": [
      "Parameterized constructor called with name John\n"
     ]
    }
   ],
   "source": [
    "# Create an object of the class using the parameterized constructor\n",
    "obj2 = Myclass(\"John\")"
   ]
  },
  {
   "cell_type": "code",
   "execution_count": 11,
   "metadata": {},
   "outputs": [
    {
     "name": "stdout",
     "output_type": "stream",
     "text": [
      "Method called with name John\n"
     ]
    }
   ],
   "source": [
    "# Call a method of the class\n",
    "obj2.method()"
   ]
  },
  {
   "cell_type": "code",
   "execution_count": null,
   "metadata": {},
   "outputs": [],
   "source": []
  },
  {
   "cell_type": "markdown",
   "metadata": {},
   "source": [
    "# Why Python Uses ‘Self’ as Default Argument"
   ]
  },
  {
   "cell_type": "markdown",
   "metadata": {},
   "source": [
    "Self(object) pass an arguments in other method to acces variable"
   ]
  },
  {
   "cell_type": "markdown",
   "metadata": {},
   "source": [
    "Example 1: Object Initialization & Method Invocation"
   ]
  },
  {
   "cell_type": "code",
   "execution_count": 12,
   "metadata": {},
   "outputs": [
    {
     "name": "stdout",
     "output_type": "stream",
     "text": [
      "Topic: Python\n"
     ]
    }
   ],
   "source": [
    "\n",
    "class GeeksforGeeks:\n",
    "\tdef __init__(self, topic):\n",
    "\t\tself.topic = topic\n",
    "\n",
    "\tdef display_topic(self):\n",
    "\t\tprint(\"Topic:\", self.topic)\n",
    "\n",
    "# Creating an instance of GeeksforGeeks\n",
    "gfg_instance = GeeksforGeeks(\"Python\")\n",
    "\n",
    "# Calling the display_topic method\n",
    "gfg_instance.display_topic()\n"
   ]
  },
  {
   "cell_type": "markdown",
   "metadata": {},
   "source": [
    "Example 2: Circle Class for Area Calculation Example"
   ]
  },
  {
   "cell_type": "code",
   "execution_count": 13,
   "metadata": {},
   "outputs": [
    {
     "name": "stdout",
     "output_type": "stream",
     "text": [
      "Area of the circle: 78.5\n"
     ]
    }
   ],
   "source": [
    "class Circle:\n",
    "\tdef __init__(self, radius):\n",
    "\t\tself.radius = radius\n",
    "\n",
    "\tdef calculate_area(self):\n",
    "\t\tarea = 3.14 * self.radius ** 2\n",
    "\t\treturn area\n",
    "\n",
    "# Creating an instance of Circle\n",
    "circle_instance = Circle(5)\n",
    "\n",
    "# Calling the calculate_area method\n",
    "print(\"Area of the circle:\", circle_instance.calculate_area())\n"
   ]
  },
  {
   "cell_type": "markdown",
   "metadata": {},
   "source": [
    "# Look same list "
   ]
  },
  {
   "cell_type": "code",
   "execution_count": 16,
   "metadata": {},
   "outputs": [
    {
     "name": "stdout",
     "output_type": "stream",
     "text": [
      "['notebook']\n",
      "['notebook', 'pencil']\n",
      "['notebook', 'pencil', 'eraser']\n"
     ]
    }
   ],
   "source": [
    "def appendItem(itemName, itemList = []):\n",
    "    itemList.append(itemName)\n",
    "    return itemList\n",
    "\n",
    "\n",
    "print(appendItem('notebook'))\n",
    "print(appendItem('pencil'))\n",
    "print(appendItem('eraser'))"
   ]
  },
  {
   "cell_type": "code",
   "execution_count": 17,
   "metadata": {},
   "outputs": [
    {
     "name": "stdout",
     "output_type": "stream",
     "text": [
      "{'notebook': 4}\n",
      "{'notebook': 4, 'pencil': 1}\n",
      "{'notebook': 4, 'pencil': 1, 'eraser': 1}\n"
     ]
    }
   ],
   "source": [
    "# mutable default argument values example using python dictionary\n",
    "\n",
    "# itemName is the name of item and quantity is the number of such\n",
    "# items are there\n",
    "\n",
    "\n",
    "def addItemToDictionary(itemName, quantity, itemList = {}):\n",
    "    itemList[itemName] = quantity\n",
    "    return itemList\n",
    "\n",
    "\n",
    "print(addItemToDictionary('notebook', 4))\n",
    "print(addItemToDictionary('pencil', 1))\n",
    "print(addItemToDictionary('eraser', 1))"
   ]
  },
  {
   "cell_type": "code",
   "execution_count": 18,
   "metadata": {},
   "outputs": [
    {
     "name": "stdout",
     "output_type": "stream",
     "text": [
      "#list\n",
      "['notebook']\n",
      "['pencil']\n",
      "['eraser']\n"
     ]
    }
   ],
   "source": [
    "print('#list')\n",
    "def appendItem(itemName, itemList=None):\n",
    "    if itemList == None:\n",
    "          itemList = []\n",
    "    itemList.append(itemName)\n",
    "    return itemList\n",
    "\n",
    "\n",
    "print(appendItem('notebook'))\n",
    "print(appendItem('pencil'))\n",
    "print(appendItem('eraser'))\n"
   ]
  },
  {
   "cell_type": "markdown",
   "metadata": {},
   "source": [
    "# Ecncapsulation"
   ]
  },
  {
   "cell_type": "markdown",
   "metadata": {},
   "source": [
    "# protected member "
   ]
  },
  {
   "cell_type": "markdown",
   "metadata": {},
   "source": [
    "just for remained it is using for internel    \n",
    "access -  inside class , outside class , subclass  , superclass\n",
    "ye bus remined karwana k liya ki developers ko ye proteced ha"
   ]
  },
  {
   "cell_type": "code",
   "execution_count": 18,
   "metadata": {},
   "outputs": [],
   "source": [
    "# Python program to\n",
    "# demonstrate protected members\n",
    "\n",
    "# Creating a base class\n",
    "class Base:\n",
    "    def __init__(self):\n",
    "\n",
    "        # Protected member\n",
    "        self._a = 2\n",
    "\n",
    "# Creating a derived class\n",
    "class Derived(Base):\n",
    "    def __init__(self):\n",
    "\n",
    "        # Calling constructor of\n",
    "        # Base class\n",
    "        Base.__init__(self)\n",
    "        print(\"Calling protected member of base class: \", \n",
    "              self._a)\n",
    "\n",
    "        # Modify the protected variable:\n",
    "        self._a = 3\n",
    "        print(\"Calling modified protected member outside class: \",\n",
    "              self._a)"
   ]
  },
  {
   "cell_type": "code",
   "execution_count": 19,
   "metadata": {},
   "outputs": [
    {
     "name": "stdout",
     "output_type": "stream",
     "text": [
      "Calling protected member of base class:  2\n",
      "Calling modified protected member outside class:  3\n"
     ]
    }
   ],
   "source": [
    "obj1 = Derived()"
   ]
  },
  {
   "cell_type": "code",
   "execution_count": 20,
   "metadata": {},
   "outputs": [],
   "source": [
    "obj2 = Base()"
   ]
  },
  {
   "cell_type": "code",
   "execution_count": 33,
   "metadata": {},
   "outputs": [
    {
     "data": {
      "text/plain": [
       "2"
      ]
     },
     "execution_count": 33,
     "metadata": {},
     "output_type": "execute_result"
    }
   ],
   "source": [
    "obj2._a"
   ]
  },
  {
   "cell_type": "code",
   "execution_count": 22,
   "metadata": {},
   "outputs": [
    {
     "name": "stdout",
     "output_type": "stream",
     "text": [
      "Accessing protected member of obj1:  3\n"
     ]
    }
   ],
   "source": [
    "# Calling protected member\n",
    "# Can be accessed but should not be done due to convention\n",
    "print(\"Accessing protected member of obj1: \", obj1._a)"
   ]
  },
  {
   "cell_type": "code",
   "execution_count": 23,
   "metadata": {},
   "outputs": [
    {
     "name": "stdout",
     "output_type": "stream",
     "text": [
      "Accessing protected member of obj2:  2\n"
     ]
    }
   ],
   "source": [
    "# Accessing the protected variable outside\n",
    "print(\"Accessing protected member of obj2: \", obj2._a)"
   ]
  },
  {
   "cell_type": "markdown",
   "metadata": {},
   "source": [
    "# Private members"
   ]
  },
  {
   "cell_type": "markdown",
   "metadata": {},
   "source": [
    "private members are used to restrict access to certain variables or methods from outside the class or even in derived (sub) classes."
   ]
  },
  {
   "cell_type": "code",
   "execution_count": 25,
   "metadata": {},
   "outputs": [],
   "source": [
    "# Python program to\n",
    "# demonstrate private members\n",
    "\n",
    "# Creating a Base class\n",
    "\n",
    "\n",
    "class Base:\n",
    "    def __init__(self):\n",
    "        self.a = \"GeeksforGeeks\"\n",
    "        self.__c = \"GeeksforGeeks\"\n",
    "\n",
    "# Creating a derived class\n",
    "class Derived(Base):\n",
    "    def __init__(self):\n",
    "\n",
    "        # Calling constructor of\n",
    "        # Base class\n",
    "        Base.__init__(self)\n",
    "        print(\"Calling private member of base class: \")\n",
    "        print(self.__c)\n"
   ]
  },
  {
   "cell_type": "code",
   "execution_count": 35,
   "metadata": {},
   "outputs": [
    {
     "name": "stdout",
     "output_type": "stream",
     "text": [
      "GeeksforGeeks\n"
     ]
    }
   ],
   "source": [
    "\n",
    "# Driver code\n",
    "obj1 = Base()\n",
    "print(obj1.a)"
   ]
  },
  {
   "cell_type": "code",
   "execution_count": 29,
   "metadata": {},
   "outputs": [],
   "source": [
    "#print(obj1.c)\n",
    "\n",
    "\n",
    "#AttributeError: 'Base' object has no attribute 'c'"
   ]
  },
  {
   "cell_type": "code",
   "execution_count": 31,
   "metadata": {},
   "outputs": [],
   "source": [
    "# obj2 = Derived() \n",
    "\n",
    "\n",
    "# AttributeError: 'Derived' object has no attribute '_Derived__c'"
   ]
  },
  {
   "cell_type": "markdown",
   "metadata": {},
   "source": [
    "Acces private member: ---> _ClassName__private_member"
   ]
  },
  {
   "cell_type": "markdown",
   "metadata": {},
   "source": [
    "in subclass --- > self_Base__c"
   ]
  },
  {
   "cell_type": "code",
   "execution_count": 42,
   "metadata": {},
   "outputs": [
    {
     "data": {
      "text/plain": [
       "'GeeksforGeeks'"
      ]
     },
     "execution_count": 42,
     "metadata": {},
     "output_type": "execute_result"
    }
   ],
   "source": [
    "obj1._Base__c"
   ]
  },
  {
   "cell_type": "markdown",
   "metadata": {},
   "source": [
    "Summary --- > Acces private member inside outside the class but it is not recommended"
   ]
  },
  {
   "cell_type": "code",
   "execution_count": null,
   "metadata": {},
   "outputs": [],
   "source": []
  },
  {
   "cell_type": "code",
   "execution_count": null,
   "metadata": {},
   "outputs": [],
   "source": []
  },
  {
   "cell_type": "code",
   "execution_count": null,
   "metadata": {},
   "outputs": [],
   "source": []
  },
  {
   "cell_type": "markdown",
   "metadata": {},
   "source": [
    "# Video1 free code"
   ]
  },
  {
   "cell_type": "code",
   "execution_count": 3,
   "metadata": {},
   "outputs": [],
   "source": [
    "class Item:\n",
    "    def __init__(self , name, salary ,car = 0):\n",
    "        self.name  = name\n",
    "        self.salary = salary\n",
    "        self.car = car\n",
    "\n",
    "    def calculate_total_price(self,x,y):\n",
    "        return x*y\n",
    "\n"
   ]
  },
  {
   "cell_type": "code",
   "execution_count": 4,
   "metadata": {},
   "outputs": [],
   "source": [
    "item1 = Item(\"sushil\" ,0 , 2)"
   ]
  },
  {
   "cell_type": "code",
   "execution_count": 6,
   "metadata": {},
   "outputs": [
    {
     "data": {
      "text/plain": [
       "8"
      ]
     },
     "execution_count": 6,
     "metadata": {},
     "output_type": "execute_result"
    }
   ],
   "source": [
    "item1.calculate_total_price(2,4)"
   ]
  },
  {
   "cell_type": "code",
   "execution_count": 31,
   "metadata": {},
   "outputs": [],
   "source": [
    "class Item:\n",
    "    pay_rate = 0.8 # The pay rate after 20% discount\n",
    "    all = []\n",
    "    def __init__(self, name: str, price: float, quantity=0):\n",
    "        # Run validations to the received arguments\n",
    "        assert price >= 0, f\"Price {price} is not greater than or equal to zero!\"\n",
    "        assert quantity >= 0, f\"Quantity {quantity} is not greater or equal to zero!\"\n",
    "\n",
    "        # Assign to self object\n",
    "        self.name = name\n",
    "        self.price = price\n",
    "        self.quantity = quantity\n",
    "\n",
    "        # Actions to execute\n",
    "        Item.all.append(self)\n",
    "\n",
    "    def calculate_total_price(self):\n",
    "        return self.price * self.quantity\n",
    "\n",
    "    def apply_discount(self):\n",
    "        self.price = self.price * self.pay_rate\n",
    "\n",
    "    def __repr__(self):\n",
    "        return f\"Item('{self.name}', {self.price}, {self.quantity})\"\n",
    "        "
   ]
  },
  {
   "cell_type": "code",
   "execution_count": 32,
   "metadata": {},
   "outputs": [],
   "source": [
    "\n",
    "item1 = Item(\"Phone\", 100, 1)\n",
    "item2 = Item(\"Laptop\", 1000, 3)\n",
    "item3 = Item(\"Cable\", 10, 5)\n",
    "item4 = Item(\"Mouse\", 50, 5)\n",
    "item5 = Item(\"Keyboard\", 75, 5)"
   ]
  },
  {
   "cell_type": "code",
   "execution_count": 33,
   "metadata": {},
   "outputs": [
    {
     "data": {
      "text/plain": [
       "[Item('Phone', 100, 1),\n",
       " Item('Laptop', 1000, 3),\n",
       " Item('Cable', 10, 5),\n",
       " Item('Mouse', 50, 5),\n",
       " Item('Keyboard', 75, 5)]"
      ]
     },
     "execution_count": 33,
     "metadata": {},
     "output_type": "execute_result"
    }
   ],
   "source": [
    "Item.all"
   ]
  },
  {
   "cell_type": "code",
   "execution_count": 1,
   "metadata": {},
   "outputs": [],
   "source": [
    "class Item:\n",
    "    pass"
   ]
  },
  {
   "cell_type": "code",
   "execution_count": 2,
   "metadata": {},
   "outputs": [],
   "source": [
    "item1 = Item()"
   ]
  },
  {
   "cell_type": "markdown",
   "metadata": {},
   "source": [
    "It is just item1 object attributes"
   ]
  },
  {
   "cell_type": "code",
   "execution_count": 6,
   "metadata": {},
   "outputs": [],
   "source": [
    "item1.name = \"sushil\""
   ]
  },
  {
   "cell_type": "code",
   "execution_count": 7,
   "metadata": {},
   "outputs": [
    {
     "data": {
      "text/plain": [
       "'sushil'"
      ]
     },
     "execution_count": 7,
     "metadata": {},
     "output_type": "execute_result"
    }
   ],
   "source": [
    "item1.name"
   ]
  },
  {
   "cell_type": "code",
   "execution_count": 8,
   "metadata": {},
   "outputs": [
    {
     "data": {
      "text/plain": [
       "str"
      ]
     },
     "execution_count": 8,
     "metadata": {},
     "output_type": "execute_result"
    }
   ],
   "source": [
    "type(item1.name)"
   ]
  },
  {
   "cell_type": "code",
   "execution_count": null,
   "metadata": {},
   "outputs": [],
   "source": []
  },
  {
   "cell_type": "markdown",
   "metadata": {},
   "source": [
    "# simple understanding class object"
   ]
  },
  {
   "cell_type": "markdown",
   "metadata": {},
   "source": []
  },
  {
   "cell_type": "code",
   "execution_count": 9,
   "metadata": {},
   "outputs": [
    {
     "name": "stdout",
     "output_type": "stream",
     "text": [
      "500\n",
      "3000\n"
     ]
    }
   ],
   "source": [
    "# How to create a class:\n",
    "class Item:\n",
    "    def calculate_total_price(self, x, y):\n",
    "        return x * y\n",
    "\n",
    "# How to create an instance of a class\n",
    "item1 = Item()\n",
    "\n",
    "# Assign attributes:\n",
    "\n",
    "#------------------------------below are only attributes of item1 instanecs------------------------------------------------\n",
    "\n",
    "item1.name = \"Phone\"\n",
    "item1.price = 100\n",
    "item1.quantity = 5\n",
    "\n",
    "# Calling methods from instances of a class:\n",
    "print(item1.calculate_total_price(item1.price, item1.quantity))\n",
    "\n",
    "# How to create an instance of a class (We could create as much as instances we'd like to)\n",
    "item2 = Item()\n",
    "#------------------------------below are only attributes of item2 instanecs------------------------------------------------\n",
    "# Assign attributes\n",
    "item2.name = \"Laptop\"\n",
    "item2.price = 1000\n",
    "item2.quantity = 3\n",
    "\n",
    "# Calling methods from instances of a class: \n",
    "print(item2.calculate_total_price(item2.price, item2.quantity))"
   ]
  },
  {
   "cell_type": "markdown",
   "metadata": {},
   "source": [
    "# init "
   ]
  },
  {
   "cell_type": "code",
   "execution_count": 10,
   "metadata": {},
   "outputs": [
    {
     "name": "stdout",
     "output_type": "stream",
     "text": [
      "100\n",
      "3000\n"
     ]
    }
   ],
   "source": [
    "\n",
    "# To avoid  ---------------------------------------------\n",
    "item1.name = \"Phone\"\n",
    "item1.price = 100\n",
    "item1.quantity = 5\n",
    "\n",
    "#we need init method-----------------------------------\n",
    "\n",
    "\n",
    "# that is not mean we can not assign more attributes for that insatnce\n",
    "\n",
    "\n",
    "# to defines above attributes inside init method we need object that is called as self(i.e : self.name)\n",
    "\n",
    "class Item:\n",
    "    def __init__(self, name: str, price: float, quantity=0):\n",
    "        # Run validations to the received arguments\n",
    "        assert price >= 0, f\"Price {price} is not greater than or equal to zero!\"\n",
    "        assert quantity >= 0, f\"Quantity {quantity} is not greater or equal to zero!\"\n",
    "\n",
    "        # Assign to self object\n",
    "        self.name = name\n",
    "        self.price = price\n",
    "        self.quantity = quantity\n",
    "#---------------------------to access the attributes we need instance called as self--------------------\n",
    "    def calculate_total_price(self):\n",
    "        return self.price * self.quantity\n",
    "\n",
    "item1 = Item(\"Phone\", 100, 1)\n",
    "item2 = Item(\"Laptop\", 1000, 3)\n",
    "\n",
    "print(item1.calculate_total_price())\n",
    "print(item2.calculate_total_price())"
   ]
  },
  {
   "cell_type": "markdown",
   "metadata": {},
   "source": [
    "Class Attributes"
   ]
  },
  {
   "cell_type": "code",
   "execution_count": 1,
   "metadata": {},
   "outputs": [
    {
     "name": "stdout",
     "output_type": "stream",
     "text": [
      "[Item('Phone', 100, 1), Item('Laptop', 1000, 3), Item('Cable', 10, 5), Item('Mouse', 50, 5), Item('Keyboard', 75, 5)]\n"
     ]
    }
   ],
   "source": [
    "class Item:\n",
    "\n",
    "    \"\"\"---------------access of class attributes useing instances  --->>  \n",
    "    first it seeing inside that insatnces attributes if not find\n",
    "    then it seeing in class attributes----------------# \n",
    "\n",
    "\n",
    "    print(Item.__dict__())          <--------class level all atrributes\n",
    "    print(item1.__dict__())          <--------instance level all atrributes\n",
    "\n",
    "    \"\"\"\n",
    "    pay_rate = 0.8 # The pay rate after 20% discount        <---------------------class level attributes\n",
    "    all = []\n",
    "    def __init__(self, name: str, price: float, quantity=0):\n",
    "        # Run validations to the received arguments\n",
    "        assert price >= 0, f\"Price {price} is not greater than or equal to zero!\"\n",
    "        assert quantity >= 0, f\"Quantity {quantity} is not greater or equal to zero!\"\n",
    "\n",
    "        # Assign to self object\n",
    "        self.name = name\n",
    "        self.price = price\n",
    "        self.quantity = quantity\n",
    "\n",
    "        # Actions to execute\n",
    "        Item.all.append(self)\n",
    "\n",
    "    def calculate_total_price(self):\n",
    "        return self.price * self.quantity\n",
    "\n",
    "    def apply_discount(self):\n",
    "        self.price = self.price * self.pay_rate                     # <--------------------------------i can access pay_rate both level insatnce and class level\n",
    "                                                                    # but be carefule class level Item.class_attributes and insatnce base self.insatnce_attributes\n",
    "\n",
    "    def __repr__(self):\n",
    "        return f\"Item('{self.name}', {self.price}, {self.quantity})\"\n",
    "\n",
    "item1 = Item(\"Phone\", 100, 1)\n",
    "item2 = Item(\"Laptop\", 1000, 3)\n",
    "item3 = Item(\"Cable\", 10, 5)\n",
    "item4 = Item(\"Mouse\", 50, 5)\n",
    "item5 = Item(\"Keyboard\", 75, 5)\n",
    "\n",
    "print(Item.all)"
   ]
  },
  {
   "cell_type": "markdown",
   "metadata": {},
   "source": [
    "-->Why we need all attributes because in a shop we have many items  and each item has its own price, quantity, and weight. So, we need to store all\n",
    "\n",
    "and can see how amny totals items in my shop class here is a shop"
   ]
  },
  {
   "cell_type": "markdown",
   "metadata": {},
   "source": [
    "--> if i comment __repr__() and print(Item.all)  then it a list and elemnets an address of instances \n",
    "\n",
    "--->> and access the attributes of instances inside the list(all) for instance in Item.all():\n",
    "                                                                        print(instance.name)   all name phone,laptop,cable ....\n",
    "\n",
    "--->>Magic method __repr__() represented to the object   <------it is run  when we print the object   \n",
    "\n",
    "--->>>"
   ]
  },
  {
   "cell_type": "markdown",
   "metadata": {},
   "source": [
    "# class method and static method"
   ]
  },
  {
   "cell_type": "code",
   "execution_count": 5,
   "metadata": {},
   "outputs": [],
   "source": [
    "import csv\n",
    "\n",
    "\n",
    "class Item:\n",
    "    pay_rate = 0.8 # The pay rate after 20% discount\n",
    "    all = []\n",
    "    def __init__(self, name: str, price: float, quantity=0):\n",
    "        # Run validations to the received arguments\n",
    "        assert price >= 0, f\"Price {price} is not greater than or equal to zero!\"\n",
    "        assert quantity >= 0, f\"Quantity {quantity} is not greater or equal to zero!\"\n",
    "\n",
    "        # Assign to self object\n",
    "        self.name = name\n",
    "        self.price = price\n",
    "        self.quantity = quantity\n",
    "\n",
    "        # Actions to execute\n",
    "        Item.all.append(self)\n",
    "\n",
    "    def calculate_total_price(self):\n",
    "        return self.price * self.quantity\n",
    "\n",
    "    def apply_discount(self):\n",
    "        self.price = self.price * self.pay_rate\n",
    "\n",
    "    @classmethod     #<-------------------------------------------- decorators is changing the behaviour of method\n",
    "    def instantiate_from_csv(cls):  #-------------------------------cls is a class object(Item) and self is a instance (item1)\n",
    "        with open('items.csv', 'r') as f:\n",
    "            reader = csv.DictReader(f)\n",
    "            items = list(reader)\n",
    "\n",
    "        for item in items:\n",
    "\n",
    "            #below Item is the class itself -->  to create an instance(object ) of the class from csv file \n",
    "            #size of csv file is 5 and so there is 5 instances   and below is like name , price , quantity are attributes of instances\n",
    "            Item(\n",
    "                # \n",
    "                name=item.get('name'),\n",
    "                price=float(item.get('price')),\n",
    "                quantity=int(item.get('quantity')),\n",
    "            )\n",
    "            # print(item)\n",
    "\n",
    "    @staticmethod\n",
    "    def is_integer(num):\n",
    "        # We will count out the floats that are point zero\n",
    "        # For i.e: 5.0, 10.0\n",
    "        if isinstance(num, float):\n",
    "            # Count out the floats that are point zero\n",
    "            return num.is_integer()\n",
    "        elif isinstance(num, int):\n",
    "            return True\n",
    "        else:\n",
    "            return False\n",
    "\n",
    "    def __repr__(self):\n",
    "        return f\"Item('{self.name}', {self.price}, {self.quantity})\""
   ]
  },
  {
   "cell_type": "code",
   "execution_count": 7,
   "metadata": {},
   "outputs": [
    {
     "name": "stdout",
     "output_type": "stream",
     "text": [
      "[Item('Phone', 100.0, 1), Item('Laptop', 1000.0, 3), Item('Cable', 10.0, 5), Item('Mouse', 50.0, 5), Item('Keyboard', 75.0, 5), Item('Phone', 100.0, 1), Item('Laptop', 1000.0, 3), Item('Cable', 10.0, 5), Item('Mouse', 50.0, 5), Item('Keyboard', 75.0, 5)]\n"
     ]
    }
   ],
   "source": [
    "Item.instantiate_from_csv()\n",
    "print(Item.all)"
   ]
  },
  {
   "cell_type": "code",
   "execution_count": null,
   "metadata": {},
   "outputs": [],
   "source": [
    "# When to use class methods and when to use static methods ?\n",
    "\n",
    "class Item:\n",
    "    @staticmethod\n",
    "    def is_integer():\n",
    "        '''\n",
    "        This should do something that has a relationship\n",
    "        with the class, but not something that must be unique\n",
    "        per instance!\n",
    "        '''\n",
    "    @classmethod\n",
    "    def instantiate_from_something(cls):\n",
    "        '''\n",
    "        This should also do something that has a relationship\n",
    "        with the class, but usually, those are used to\n",
    "        manipulate different structures of data to instantiate\n",
    "        objects, like we have done with CSV.\n",
    "        '''\n",
    "\n",
    "# THE ONLY DIFFERENCE BETWEEN THOSE:\n",
    "# Static methods are not passing the object reference as the first argument in the background!\n",
    "\n",
    "\n",
    "# NOTE: However, those could be also called from instances.\n",
    "\n",
    "item1 = Item()\n",
    "item1.is_integer()\n",
    "item1.instantiate_from_something()"
   ]
  },
  {
   "cell_type": "markdown",
   "metadata": {},
   "source": [
    "INheritance"
   ]
  },
  {
   "cell_type": "code",
   "execution_count": 2,
   "metadata": {},
   "outputs": [
    {
     "name": "stdout",
     "output_type": "stream",
     "text": [
      "[Phone('jscPhonev10', 500, 5)]\n",
      "[Phone('jscPhonev10', 500, 5)]\n"
     ]
    }
   ],
   "source": [
    "import csv\n",
    "\n",
    "\n",
    "class Item:\n",
    "    pay_rate = 0.8 # The pay rate after 20% discount\n",
    "    all = []\n",
    "    def __init__(self, name: str, price: float, quantity=0):\n",
    "        # Run validations to the received arguments\n",
    "        assert price >= 0, f\"Price {price} is not greater than or equal to zero!\"\n",
    "        assert quantity >= 0, f\"Quantity {quantity} is not greater or equal to zero!\"\n",
    "\n",
    "        # Assign to self object\n",
    "        self.name = name\n",
    "        self.price = price\n",
    "        self.quantity = quantity\n",
    "\n",
    "        # Actions to execute\n",
    "        Item.all.append(self)\n",
    "\n",
    "    def calculate_total_price(self):\n",
    "        return self.price * self.quantity\n",
    "\n",
    "    def apply_discount(self):\n",
    "        self.price = self.price * self.pay_rate\n",
    "\n",
    "    @classmethod\n",
    "    def instantiate_from_csv(cls):\n",
    "        with open('items.csv', 'r') as f:\n",
    "            reader = csv.DictReader(f)\n",
    "            items = list(reader)\n",
    "\n",
    "        for item in items:\n",
    "            Item(\n",
    "                name=item.get('name'),\n",
    "                price=float(item.get('price')),\n",
    "                quantity=int(item.get('quantity')),\n",
    "            )\n",
    "\n",
    "    @staticmethod\n",
    "    def is_integer(num):\n",
    "        # We will count out the floats that are point zero\n",
    "        # For i.e: 5.0, 10.0\n",
    "        if isinstance(num, float):\n",
    "            # Count out the floats that are point zero\n",
    "            return num.is_integer()\n",
    "        elif isinstance(num, int):\n",
    "            return True\n",
    "        else:\n",
    "            return False\n",
    "\n",
    "    def __repr__(self):\n",
    "        return f\"{self.__class__.__name__}('{self.name}', {self.price}, {self.quantity})\"\n",
    "\n",
    "\n",
    "class Phone(Item):\n",
    "    def __init__(self, name: str, price: float, quantity=0, broken_phones=0):\n",
    "        # Call to super function to have access to all attributes / methods\n",
    "        super().__init__(                         #--------------> To remove the  repeatition code\n",
    "            name, price, quantity\n",
    "        )\n",
    "\n",
    "        # Run validations to the received arguments\n",
    "        assert broken_phones >= 0, f\"Broken Phones {broken_phones} is not greater or equal to zero!\"\n",
    "\n",
    "        # Assign to self object\n",
    "        self.broken_phones = broken_phones\n",
    "\n",
    "phone1 = Phone(\"jscPhonev10\", 500, 5, 1)\n",
    "\n",
    "print(Item.all)\n",
    "print(Phone.all)"
   ]
  },
  {
   "cell_type": "markdown",
   "metadata": {},
   "source": [
    "Getter and setter"
   ]
  },
  {
   "cell_type": "code",
   "execution_count": null,
   "metadata": {},
   "outputs": [],
   "source": []
  },
  {
   "cell_type": "markdown",
   "metadata": {},
   "source": [
    "# 1 --->  Encapsulation\n",
    "\n",
    "# 2 ---> Abstraction\n",
    "\n",
    "# 3 ----> Inheritance\n",
    "\n",
    "# 4 ---> Polymorpism"
   ]
  },
  {
   "cell_type": "markdown",
   "metadata": {},
   "source": [
    "1 --> restricting the attributes like , lenght < 10 and can not set attributes "
   ]
  },
  {
   "cell_type": "markdown",
   "metadata": {},
   "source": [
    "2-----> Abstraction --> hiding unneccsery details \n",
    "\n",
    "like sending email -->hit the server and write ing the body of the email    ->hiding method __method_name"
   ]
  },
  {
   "cell_type": "markdown",
   "metadata": {},
   "source": [
    "3----> Inheritance --> resuse code in child class fro, parent class"
   ]
  },
  {
   "cell_type": "markdown",
   "metadata": {},
   "source": [
    "4-->Polymorphism --> means referes to many(many) phones (morphism)"
   ]
  },
  {
   "cell_type": "code",
   "execution_count": null,
   "metadata": {},
   "outputs": [],
   "source": []
  }
 ],
 "metadata": {
  "kernelspec": {
   "display_name": "test_env",
   "language": "python",
   "name": "python3"
  },
  "language_info": {
   "codemirror_mode": {
    "name": "ipython",
    "version": 3
   },
   "file_extension": ".py",
   "mimetype": "text/x-python",
   "name": "python",
   "nbconvert_exporter": "python",
   "pygments_lexer": "ipython3",
   "version": "3.10.14"
  }
 },
 "nbformat": 4,
 "nbformat_minor": 2
}
